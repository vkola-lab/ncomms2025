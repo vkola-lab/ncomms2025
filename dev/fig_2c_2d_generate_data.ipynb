{
 "cells": [
  {
   "cell_type": "code",
   "execution_count": 1,
   "metadata": {},
   "outputs": [],
   "source": [
    "import numpy as np\n",
    "import seaborn as sns\n",
    "import pandas as pd\n",
    "import matplotlib\n",
    "matplotlib.use('Agg')\n",
    "import matplotlib.pyplot as plt\n",
    "from matplotlib.pyplot import figure\n",
    "import numpy as np\n",
    "import os\n",
    "import toml\n",
    "import scipy\n",
    "import pickle\n",
    "\n",
    "from tqdm import tqdm\n",
    "import json\n",
    "# from adrd.data import _conf\n",
    "import adrd.utils.misc\n",
    "import torch\n",
    "import monai\n",
    "from sklearn.metrics import accuracy_score, precision_recall_fscore_support, confusion_matrix, roc_auc_score, balanced_accuracy_score, average_precision_score, multilabel_confusion_matrix, classification_report, roc_curve, auc, RocCurveDisplay, precision_score, recall_score, PrecisionRecallDisplay, precision_recall_curve\n",
    "from sklearn.preprocessing import label_binarize\n",
    "from sklearn.model_selection import KFold, StratifiedKFold\n",
    "from icecream import ic\n",
    "ic.disable()\n",
    "\n",
    "from data.dataset_csv import CSVDataset\n",
    "from adrd.model import ADRDModel\n",
    "from adrd.utils.misc import get_and_print_metrics_multitask\n",
    "from adrd.utils.misc import get_metrics, print_metrics, print_metrics_multitask"
   ]
  },
  {
   "attachments": {},
   "cell_type": "markdown",
   "metadata": {},
   "source": [
    "## Get subgroup results"
   ]
  },
  {
   "cell_type": "code",
   "execution_count": 2,
   "metadata": {},
   "outputs": [],
   "source": [
    "# define paths and variables\n",
    "basedir=\"..\"\n",
    "\n",
    "cnf_file = \"toml_files/config_0224_amy_tau_no_csf_no_plasma.toml\"\n",
    "dat_file = pd.read_csv('/projectnb/vkolagrp/varuna/mri_pet/adrd_tool/data_varuna/data/0225/ADNI_HABS_NACCTEST_HARMONIZED.csv')\n",
    "\n",
    "ckpt_path = \"../ckpt/model_stage_1.pt\"\n",
    "\n",
    "\n",
    "config = toml.load(cnf_file)\n",
    "device = 'cuda:0'\n",
    "# file_name = \"no_fhs_mris_freeze_10_epochs_early_stopping_no_RL\"\n",
    "file_name = \"plot\"\n"
   ]
  },
  {
   "cell_type": "code",
   "execution_count": 3,
   "metadata": {},
   "outputs": [
    {
     "name": "stdout",
     "output_type": "stream",
     "text": [
      "cuda:0\n",
      "Downsample layers:  2\n",
      "Epoch: 84\n",
      "All keys matched\n"
     ]
    }
   ],
   "source": [
    "\n",
    "# print(f\"Loading checkpoint {ckpt_path}\")\n",
    "mdl = ADRDModel.from_ckpt(ckpt_path, device=device)\n",
    "print(f\"Epoch: {torch.load(ckpt_path)['epoch']}\")\n",
    "print(\"All keys matched\")\n",
    "\n",
    "img_net=\"SwinUNETREMB\"\n",
    "img_mode=1\n",
    "\n",
    "# To run without without MRIs\n",
    "# img_net=\"NonImg\"\n",
    "# img_mode=-1"
   ]
  },
  {
   "cell_type": "code",
   "execution_count": 4,
   "metadata": {},
   "outputs": [
    {
     "data": {
      "text/plain": [
       "odict_keys(['FS_MTL_VOLUME', 'FS_TEMPORAL_VOLUME', 'FS_PARIETAL_VOLUME', 'FS_OCCIPITAL_VOLUME', 'FS_FRONTAL_VOLUME', 'FS_3rd_ventricle_volume', 'FS_4th_ventricle_volume', 'FS_brain_stem_volume', 'FS_csf_volume', 'FS_left_accumbens_area_volume', 'FS_left_amygdala_volume', 'FS_left_caudate_volume', 'FS_left_cerebellum_cortex_volume', 'FS_left_cerebellum_white_matter_volume', 'FS_left_cerebral_white_matter_volume', 'FS_left_hippocampus_volume', 'FS_left_inf_lat_vent_volume', 'FS_left_lateral_ventricle_volume', 'FS_left_pallidum_volume', 'FS_left_putamen_volume', 'FS_left_thalamus_volume', 'FS_left_ventraldc_volume', 'FS_left_choroid_plexus_volume', 'FS_right_accumbens_area_volume', 'FS_right_amygdala_volume', 'FS_right_caudate_volume', 'FS_right_cerebellum_cortex_volume', 'FS_right_cerebellum_white_matter_volume', 'FS_right_cerebral_white_matter_volume', 'FS_right_hippocampus_volume', 'FS_right_inf_lat_vent_volume', 'FS_right_lateral_ventricle_volume', 'FS_right_pallidum_volume', 'FS_right_putamen_volume', 'FS_right_thalamus_volume', 'FS_right_ventraldc_volume', 'FS_right_choroid_plexus_volume', 'FS_wm_hypointensities_volume', 'FS_ctx_lh_caudalanteriorcingulate_volume', 'FS_ctx_lh_caudalmiddlefrontal_volume', 'FS_ctx_lh_cuneus_volume', 'FS_ctx_lh_entorhinal_volume', 'FS_ctx_lh_fusiform_volume', 'FS_ctx_lh_inferiorparietal_volume', 'FS_ctx_lh_inferiortemporal_volume', 'FS_ctx_lh_insula_volume', 'FS_ctx_lh_isthmuscingulate_volume', 'FS_ctx_lh_lateraloccipital_volume', 'FS_ctx_lh_lateralorbitofrontal_volume', 'FS_ctx_lh_lingual_volume', 'FS_ctx_lh_medialorbitofrontal_volume', 'FS_ctx_lh_middletemporal_volume', 'FS_ctx_lh_paracentral_volume', 'FS_ctx_lh_parahippocampal_volume', 'FS_ctx_lh_parsopercularis_volume', 'FS_ctx_lh_parsorbitalis_volume', 'FS_ctx_lh_parstriangularis_volume', 'FS_ctx_lh_pericalcarine_volume', 'FS_ctx_lh_postcentral_volume', 'FS_ctx_lh_posteriorcingulate_volume', 'FS_ctx_lh_precentral_volume', 'FS_ctx_lh_precuneus_volume', 'FS_ctx_lh_rostralanteriorcingulate_volume', 'FS_ctx_lh_rostralmiddlefrontal_volume', 'FS_ctx_lh_superiorfrontal_volume', 'FS_ctx_lh_superiorparietal_volume', 'FS_ctx_lh_superiortemporal_volume', 'FS_ctx_lh_supramarginal_volume', 'FS_ctx_lh_transversetemporal_volume', 'FS_ctx_rh_caudalanteriorcingulate_volume', 'FS_ctx_rh_caudalmiddlefrontal_volume', 'FS_ctx_rh_cuneus_volume', 'FS_ctx_rh_entorhinal_volume', 'FS_ctx_rh_fusiform_volume', 'FS_ctx_rh_inferiorparietal_volume', 'FS_ctx_rh_inferiortemporal_volume', 'FS_ctx_rh_insula_volume', 'FS_ctx_rh_isthmuscingulate_volume', 'FS_ctx_rh_lateraloccipital_volume', 'FS_ctx_rh_lateralorbitofrontal_volume', 'FS_ctx_rh_lingual_volume', 'FS_ctx_rh_medialorbitofrontal_volume', 'FS_ctx_rh_middletemporal_volume', 'FS_ctx_rh_paracentral_volume', 'FS_ctx_rh_parahippocampal_volume', 'FS_ctx_rh_parsopercularis_volume', 'FS_ctx_rh_parsorbitalis_volume', 'FS_ctx_rh_parstriangularis_volume', 'FS_ctx_rh_pericalcarine_volume', 'FS_ctx_rh_postcentral_volume', 'FS_ctx_rh_posteriorcingulate_volume', 'FS_ctx_rh_precentral_volume', 'FS_ctx_rh_precuneus_volume', 'FS_ctx_rh_rostralanteriorcingulate_volume', 'FS_ctx_rh_rostralmiddlefrontal_volume', 'FS_ctx_rh_superiorfrontal_volume', 'FS_ctx_rh_superiorparietal_volume', 'FS_ctx_rh_superiortemporal_volume', 'FS_ctx_rh_supramarginal_volume', 'FS_ctx_rh_transversetemporal_volume', 'his_NACCREAS', 'his_NACCREFR', 'his_SEX', 'his_HISPANIC', 'his_HISPOR', 'his_PRIMLANG', 'his_EDUC', 'his_MARISTAT', 'his_LIVSIT', 'his_INDEPEND', 'his_RESIDENC', 'his_HANDED', 'his_NACCAGE', 'his_NACCNIHR', 'his_NACCFAM', 'his_NACCMOM', 'his_NACCDAD', 'his_NACCFADM', 'his_NACCAM', 'his_NACCAMS', 'his_NACCFFTD', 'his_NACCOM', 'med_ANYMEDS', 'med_NACCAMD', 'med_NACCAHTN', 'med_NACCHTNC', 'med_NACCACEI', 'med_NACCAAAS', 'med_NACCBETA', 'med_NACCCCBS', 'med_NACCDIUR', 'med_NACCVASD', 'med_NACCANGI', 'med_NACCLIPL', 'med_NACCNSD', 'med_NACCAC', 'med_NACCADEP', 'med_NACCAPSY', 'med_NACCAANX', 'med_NACCADMD', 'med_NACCPDMD', 'med_NACCEMD', 'med_NACCEPMD', 'med_NACCDBMD', 'his_TOBAC30', 'his_TOBAC100', 'his_SMOKYRS', 'his_PACKSPER', 'his_QUITSMOK', 'his_ALCOCCAS', 'his_ALCFREQ', 'his_CVHATT', 'his_HATTMULT', 'his_HATTYEAR', 'his_CVAFIB', 'his_CVANGIO', 'his_CVBYPASS', 'his_CVPACDEF', 'his_CVCHF', 'his_CVANGINA', 'his_CVHVALVE', 'his_CVOTHR', 'his_CBSTROKE', 'his_STROKMUL', 'his_NACCSTYR', 'his_CBTIA', 'his_TIAMULT', 'his_NACCTIYR', 'his_PD', 'his_PDYR', 'his_PDOTHR', 'his_PDOTHRYR', 'his_SEIZURES', 'his_TBI', 'his_TBIBRIEF', 'his_TBIEXTEN', 'his_TBIWOLOS', 'his_TBIYEAR', 'his_DIABETES', 'his_DIABTYPE', 'his_HYPERTEN', 'his_HYPERCHO', 'his_B12DEF', 'his_THYROID', 'his_ARTHRIT', 'his_ARTHTYPE', 'his_ARTHUPEX', 'his_ARTHLOEX', 'his_ARTHSPIN', 'his_ARTHUNK', 'his_INCONTU', 'his_INCONTF', 'his_APNEA', 'his_RBD', 'his_INSOMN', 'his_OTHSLEEP', 'his_ALCOHOL', 'his_ABUSOTHR', 'his_PTSD', 'his_BIPOLAR', 'his_SCHIZ', 'his_DEP2YRS', 'his_DEPOTHR', 'his_ANXIETY', 'his_OCD', 'his_NPSYDEV', 'his_PSYCDIS', 'his_NACCTBI', 'ph_HEIGHT', 'ph_WEIGHT', 'ph_NACCBMI', 'ph_BPSYS', 'ph_BPDIAS', 'ph_HRATE', 'ph_VISION', 'ph_VISCORR', 'ph_VISWCORR', 'ph_HEARING', 'ph_HEARAID', 'ph_HEARWAID', 'npiq_NPIQINF', 'npiq_DEL', 'npiq_HALL', 'npiq_AGIT', 'npiq_DEPD', 'npiq_ANX', 'npiq_ELAT', 'npiq_APA', 'npiq_DISN', 'npiq_IRR', 'npiq_MOT', 'npiq_NITE', 'npiq_APP', 'gds_NOGDS', 'gds_SATIS', 'gds_DROPACT', 'gds_EMPTY', 'gds_BORED', 'gds_SPIRITS', 'gds_AFRAID', 'gds_HAPPY', 'gds_HELPLESS', 'gds_STAYHOME', 'gds_MEMPROB', 'gds_WONDRFUL', 'gds_WRTHLESS', 'gds_ENERGY', 'gds_HOPELESS', 'gds_BETTER', 'gds_NACCGDS', 'faq_BILLS', 'faq_TAXES', 'faq_SHOPPING', 'faq_GAMES', 'faq_STOVE', 'faq_MEALPREP', 'faq_EVENTS', 'faq_PAYATTN', 'faq_REMDATES', 'faq_TRAVEL', 'exam_NORMEXAM', 'exam_PARKSIGN', 'exam_RESTTRL', 'exam_RESTTRR', 'exam_SLOWINGL', 'exam_SLOWINGR', 'exam_RIGIDL', 'exam_RIGIDR', 'exam_BRADY', 'exam_PARKGAIT', 'exam_POSTINST', 'exam_CVDSIGNS', 'exam_CORTDEF', 'exam_SIVDFIND', 'exam_CVDMOTL', 'exam_CVDMOTR', 'exam_CORTVISL', 'exam_CORTVISR', 'exam_SOMATL', 'exam_SOMATR', 'exam_POSTCORT', 'exam_PSPCBS', 'exam_EYEPSP', 'exam_DYSPSP', 'exam_AXIALPSP', 'exam_GAITPSP', 'exam_APRAXSP', 'exam_APRAXL', 'exam_APRAXR', 'exam_CORTSENL', 'exam_CORTSENR', 'exam_ATAXL', 'exam_ATAXR', 'exam_ALIENLML', 'exam_ALIENLMR', 'exam_DYSTONL', 'exam_DYSTONR', 'exam_MYOCLLT', 'exam_MYOCLRT', 'exam_ALSFIND', 'exam_GAITNPH', 'exam_OTHNEUR', 'bat_MMSECOMP', 'bat_MMSELOC', 'bat_MMSELAN', 'bat_MMSEVIS', 'bat_MMSEHEAR', 'bat_MMSEORDA', 'bat_MMSEORLO', 'bat_PENTAGON', 'bat_NACCMMSE', 'bat_NPSYCLOC', 'bat_NPSYLAN', 'bat_LOGIPREV', 'bat_LOGIMEM', 'bat_MEMUNITS', 'bat_MEMTIME', 'bat_UDSBENTC', 'bat_UDSBENTD', 'bat_UDSBENRS', 'bat_DIGIF', 'bat_DIGIFLEN', 'bat_DIGIB', 'bat_DIGIBLEN', 'bat_ANIMALS', 'bat_VEG', 'bat_TRAILA', 'bat_TRAILARR', 'bat_TRAILALI', 'bat_TRAILB', 'bat_TRAILBRR', 'bat_TRAILBLI', 'bat_WAIS', 'bat_BOSTON', 'bat_UDSVERFC', 'bat_UDSVERFN', 'bat_UDSVERNF', 'bat_UDSVERLC', 'bat_UDSVERLR', 'bat_UDSVERLN', 'bat_UDSVERTN', 'bat_UDSVERTE', 'bat_UDSVERTI', 'bat_COGSTAT', 'bat_MODCOMM', 'bat_MOCACOMP', 'bat_MOCAREAS', 'bat_MOCALOC', 'bat_MOCALAN', 'bat_MOCAVIS', 'bat_MOCAHEAR', 'bat_NACCMOCA', 'bat_MOCATRAI', 'bat_MOCACUBE', 'bat_MOCACLOC', 'bat_MOCACLON', 'bat_MOCACLOH', 'bat_MOCANAMI', 'bat_MOCAREGI', 'bat_MOCADIGI', 'bat_MOCALETT', 'bat_MOCASER7', 'bat_MOCAREPE', 'bat_MOCAFLUE', 'bat_MOCAABST', 'bat_MOCARECN', 'bat_MOCARECC', 'bat_MOCARECR', 'bat_MOCAORDT', 'bat_MOCAORMO', 'bat_MOCAORYR', 'bat_MOCAORDY', 'bat_MOCAORPL', 'bat_MOCAORCT', 'bat_CRAFTVRS', 'bat_CRAFTURS', 'bat_DIGFORCT', 'bat_DIGFORSL', 'bat_DIGBACCT', 'bat_DIGBACLS', 'bat_CRAFTDVR', 'bat_CRAFTDRE', 'bat_CRAFTDTI', 'bat_CRAFTCUE', 'bat_MINTTOTS', 'bat_MINTTOTW', 'bat_MINTSCNG', 'bat_MINTSCNC', 'bat_MINTPCNG', 'bat_MINTPCNC', 'bat_MOCBTOTS', 'bat_NACCMOCB', 'bat_REY1REC', 'bat_REY1INT', 'bat_REY2REC', 'bat_REY2INT', 'bat_REY3REC', 'bat_REY3INT', 'bat_REY4REC', 'bat_REY4INT', 'bat_REY5REC', 'bat_REY5INT', 'bat_REY6REC', 'bat_REY6INT', 'bat_OTRAILA', 'bat_OTRLARR', 'bat_OTRLALI', 'bat_OTRAILB', 'bat_OTRLBRR', 'bat_OTRLBLI', 'bat_REYDREC', 'bat_REYDINT', 'bat_REYTCOR', 'bat_REYFPOS', 'bat_VNTTOTW', 'bat_VNTPCNC', 'bat_RESPVAL', 'bat_RESPHEAR', 'bat_RESPDIST', 'bat_RESPINTR', 'bat_RESPDISN', 'bat_RESPFATG', 'bat_RESPEMOT', 'bat_RESPASST', 'bat_RESPOTH', 'apoe_NACCNE4S', 'csf_AMYLCSF', 'csf_CSFTAU', 'cdr_MEMORY', 'cdr_ORIENT', 'cdr_JUDGMENT', 'cdr_COMMUN', 'cdr_HOMEHOBB', 'cdr_PERSCARE', 'cdr_CDRSUM', 'cdr_CDRGLOB', 'cd_NACCUDSD', 'WB_T1_EMBED', 'WB_FLAIR_EMBED', 'WB_T2st_EMBED', 'blood_t-TAU', 'blood_AB42_AB40'])"
      ]
     },
     "execution_count": 4,
     "metadata": {},
     "output_type": "execute_result"
    }
   ],
   "source": [
    "mdl.net_.modules_emb_src.keys()"
   ]
  },
  {
   "cell_type": "code",
   "execution_count": 5,
   "metadata": {},
   "outputs": [],
   "source": [
    "prefix = set()\n",
    "for k, v in config['feature'].items():\n",
    "    prefix.add(k.split('_')[0])"
   ]
  },
  {
   "cell_type": "code",
   "execution_count": 6,
   "metadata": {},
   "outputs": [
    {
     "name": "stdout",
     "output_type": "stream",
     "text": [
      "{'WB', 'cdr', 'faq', 'npiq', 'exam', 'blood', 'bat', 'gds', 'apoe', 'med', 'FS', 'cd', 'ph', 'his'}\n"
     ]
    }
   ],
   "source": [
    "print(prefix)"
   ]
  },
  {
   "cell_type": "code",
   "execution_count": 7,
   "metadata": {},
   "outputs": [
    {
     "data": {
      "text/plain": [
       "14"
      ]
     },
     "execution_count": 7,
     "metadata": {},
     "output_type": "execute_result"
    }
   ],
   "source": [
    "len(prefix)"
   ]
  },
  {
   "cell_type": "code",
   "execution_count": 8,
   "metadata": {},
   "outputs": [],
   "source": [
    "subgroup_prefixes = {'All': [], 'History': ['his', 'ph', 'med'], 'Neurological/Physical': ['exam'], 'MRI': ['WB', 'FS'], 'FAQ': ['faq'], 'Neuropsych Battery': ['bat',  'npiq', 'gds'], 'CDR': ['cd', 'cdr'], 'Plasma': ['blood'], 'APoE e4': ['apoe']} #, 'CSF': ['csf']}\n",
    "subgroups = {}\n",
    "for k, v in subgroup_prefixes.items():\n",
    "    subgroups[k] = [key for key in list(config['feature'].keys()) if key.split('_')[0] in subgroup_prefixes[k]]"
   ]
  },
  {
   "cell_type": "code",
   "execution_count": 9,
   "metadata": {},
   "outputs": [],
   "source": [
    "def generate_performance_report(dat_tst, y_pred, scores_proba):\n",
    "    y_true = [{k:int(v) if v is not None else 0 for k,v in entry.items()} for entry in dat_tst.labels]\n",
    "    mask = [{k:1 if v is not None else 0 for k,v in entry.items()} for entry in dat_tst.labels]\n",
    "\n",
    "    y_true_dict = {k: [smp[k] for smp in y_true] for k in y_true[0]}\n",
    "    y_pred_dict = {k: [smp[k] for smp in y_pred] for k in y_pred[0]}\n",
    "    scores_proba_dict = {k: [smp[k] for smp in scores_proba] for k in scores_proba[0]}\n",
    "    mask_dict = {k: [smp[k] for smp in mask] for k in mask[0]}\n",
    "\n",
    "    met = {}\n",
    "    for k in dat_tst.labels[0].keys():\n",
    "        # print('Performance metrics of {}'.format(k))\n",
    "        metrics = get_metrics(np.array(y_true_dict[k]), np.array(y_pred_dict[k]), np.array(scores_proba_dict[k]), np.array(mask_dict[k]))\n",
    "        metrics.pop('Confusion Matrix')\n",
    "        met[k] = metrics\n",
    "        \n",
    "    return met"
   ]
  },
  {
   "cell_type": "code",
   "execution_count": 10,
   "metadata": {},
   "outputs": [],
   "source": [
    "vld_file = pd.read_csv(\"/projectnb/vkolagrp/skowshik/pet_project/mri_pet/adrd_tool/data_varuna/data/0225/val_0225_new_harmonization.csv\")\n",
    "labels = ['amy_label', 'tau_label']"
   ]
  },
  {
   "cell_type": "code",
   "execution_count": 11,
   "metadata": {},
   "outputs": [],
   "source": [
    "def roc_auc_scores(y_true, y_pred, features):\n",
    "    # n_classes = y_true.shape[1]\n",
    "\n",
    "    tpr = dict()\n",
    "    fpr = dict()\n",
    "    auc_scores = dict()\n",
    "    thresholds = dict()\n",
    "        \n",
    "    for i, fea in enumerate(features):\n",
    "        y_true_ = np.array(y_true[:, i])\n",
    "        y_pred_ = np.array(y_pred[:, i])\n",
    "        mask = np.array([1 if not np.isnan(k) else 0 for k in y_true_])\n",
    "        masked_y_true = y_true_[np.where(mask == 1)]\n",
    "        masked_y_pred = y_pred_[np.where(mask == 1)]\n",
    "        print(len(masked_y_true), len(masked_y_pred))\n",
    "        print(round(roc_auc_score(masked_y_true, masked_y_pred), 4))\n",
    "        fpr[fea], tpr[fea], thresholds[fea] = roc_curve(y_true=masked_y_true, y_score=masked_y_pred, pos_label=1, drop_intermediate=True)\n",
    "        auc_scores[fea] = auc(fpr[fea], tpr[fea])\n",
    "\n",
    "    return fpr, tpr, auc_scores, thresholds"
   ]
  },
  {
   "cell_type": "code",
   "execution_count": null,
   "metadata": {},
   "outputs": [],
   "source": [
    "print('Done.\\nLoading validation dataset ...')\n",
    "dat_vld = CSVDataset(dat_file=vld_file, cnf_file=cnf_file, mode=0, img_mode=1, mri_type=mri_type, stripped='_stripped_MNI')\n",
    "print('Done.')\n",
    "# print(dat_tst.features[10].keys())\n",
    "# raise ValueError\n",
    "\n",
    "scores_vld, scores_proba_vld, y_pred_vld, _ = mdl.predict(dat_vld.features, _batch_size=128, img_transform=None)\n",
    "\n",
    "y_true = [{k:int(v) if v is not None else np.NaN for k,v in entry.items()} for entry in dat_vld.labels]\n",
    "# mask = [{k:1 if v is not None else 0 for k,v in entry.items()} for entry in dat_tst.labels]\n",
    "\n",
    "y_true_ = {f'{k}_label': [smp[k] for smp in y_true] for k in y_true[0] if k in vld_file.columns}\n",
    "\n",
    "scores_proba_ = {f'{k}_prob': [smp[k] if isinstance(y_true[i][k], int) else np.NaN for i, smp in enumerate(scores_proba_vld)] for k in scores_proba_vld[0] if k in vld_file.columns}\n",
    "\n",
    "y_true_df = pd.DataFrame(y_true_)\n",
    "scores_proba_df = pd.DataFrame(scores_proba_)\n",
    "df = pd.concat([y_true_df, scores_proba_df], axis=1)\n",
    "\n",
    "y_true_ar =  np.array(df[[f'{lab}_label' for lab in labels]])\n",
    "scores_proba_ar = np.array(df[[f'{lab}_prob' for lab in labels]])\n",
    "\n",
    "\n",
    "fpr, tpr, auc_scores, thresholds = roc_auc_scores(y_true=y_true_ar, y_pred=scores_proba_ar, features=labels)\n",
    "print('Done.')"
   ]
  },
  {
   "attachments": {},
   "cell_type": "markdown",
   "metadata": {},
   "source": [
    "## Run model delete"
   ]
  },
  {
   "cell_type": "code",
   "execution_count": null,
   "metadata": {},
   "outputs": [],
   "source": [
    "met_list_delete = {}\n",
    "for k, v in subgroups.items(): \n",
    "    feature_list = [fea for fea in dat_file.columns if fea not in v]\n",
    "    df = dat_file[feature_list]\n",
    "    \n",
    "    print(f'Loading testing dataset for subgroup {k} without keys {v}...')\n",
    "    dat_tst = CSVDataset(dat_file=df, cnf_file=cnf_file, mode=0, img_mode=img_mode, mri_type=mri_type, stripped='_stripped_MNI')\n",
    "    print('Done.')\n",
    "\n",
    "    # generate model predictions\n",
    "    print('Generating model predictions')\n",
    "    scores, scores_proba, y_pred, outputs = mdl.predict(dat_tst.features, fpr=fpr, tpr=tpr, thresholds=thresholds, _batch_size=1024, img_transform=None)\n",
    "    print('Done.')\n",
    "    print('Generating performance reports')\n",
    "    met = generate_performance_report(dat_tst, y_pred, scores_proba)\n",
    "    met_list_delete[k] = met"
   ]
  },
  {
   "cell_type": "code",
   "execution_count": 14,
   "metadata": {},
   "outputs": [],
   "source": [
    "with open(f'../figures/source_data/fig2d.pickle', 'wb') as handle:\n",
    "    pickle.dump(met_list_delete, handle, protocol=pickle.HIGHEST_PROTOCOL)"
   ]
  },
  {
   "attachments": {},
   "cell_type": "markdown",
   "metadata": {},
   "source": [
    "## Run model add"
   ]
  },
  {
   "cell_type": "code",
   "execution_count": null,
   "metadata": {},
   "outputs": [],
   "source": [
    "met_list_add = {}\n",
    "order = ['ID'] + list(config['label'].keys())\n",
    "for k, v in subgroups.items():\n",
    "    if len(v) == 0:\n",
    "        continue \n",
    "    order += v\n",
    "    print(order)\n",
    "    feature_list = [fea for fea in dat_file.columns if fea in order]\n",
    "    df = dat_file[feature_list]\n",
    "    \n",
    "    print(f'Loading testing dataset with keys {order}...')\n",
    "    dat_tst = CSVDataset(dat_file=df, cnf_file=cnf_file, mode=0, img_mode=img_mode, mri_type=mri_type, stripped='_stripped_MNI')\n",
    "    print('Done.')\n",
    "\n",
    "    # generate model predictions\n",
    "    print('Generating model predictions')\n",
    "    scores, scores_proba, y_pred, outputs = mdl.predict(dat_tst.features, fpr=fpr, tpr=tpr, thresholds=thresholds, _batch_size=1024, img_transform=None)\n",
    "    print('Done.')\n",
    "    print('Generating performance reports')\n",
    "    met = generate_performance_report(dat_tst, y_pred, scores_proba)\n",
    "    met_list_add[k] = met"
   ]
  },
  {
   "cell_type": "code",
   "execution_count": 17,
   "metadata": {},
   "outputs": [],
   "source": [
    "with open(f'../figures/source_data/fig2c.pickle', 'wb') as handle:\n",
    "    pickle.dump(met_list_add, handle, protocol=pickle.HIGHEST_PROTOCOL)"
   ]
  },
  {
   "cell_type": "code",
   "execution_count": null,
   "metadata": {},
   "outputs": [],
   "source": []
  },
  {
   "cell_type": "code",
   "execution_count": null,
   "metadata": {},
   "outputs": [],
   "source": []
  }
 ],
 "metadata": {
  "kernelspec": {
   "display_name": "Python 3",
   "language": "python",
   "name": "python3"
  },
  "language_info": {
   "codemirror_mode": {
    "name": "ipython",
    "version": 3
   },
   "file_extension": ".py",
   "mimetype": "text/x-python",
   "name": "python",
   "nbconvert_exporter": "python",
   "pygments_lexer": "ipython3",
   "version": "3.11.9"
  },
  "orig_nbformat": 4
 },
 "nbformat": 4,
 "nbformat_minor": 2
}
