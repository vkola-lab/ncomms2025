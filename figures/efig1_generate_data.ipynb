{
 "cells": [
  {
   "cell_type": "code",
   "execution_count": 1,
   "metadata": {},
   "outputs": [],
   "source": [
    "import numpy as np\n",
    "import seaborn as sns\n",
    "import pandas as pd\n",
    "import numpy as np\n",
    "import json\n",
    "import torch\n",
    "import os\n",
    "import copy\n",
    "import matplotlib.pyplot as plt\n",
    "import warnings\n",
    "warnings.filterwarnings(\"ignore\")\n",
    "\n",
    "from sklearn.metrics import multilabel_confusion_matrix, classification_report, roc_curve, auc, confusion_matrix, \\\n",
    "     RocCurveDisplay, precision_score, recall_score, average_precision_score, PrecisionRecallDisplay, precision_recall_curve, roc_auc_score\n",
    "from tqdm import tqdm\n",
    "from matplotlib.pyplot import figure\n"
   ]
  },
  {
   "attachments": {},
   "cell_type": "markdown",
   "metadata": {},
   "source": [
    "## Load the data"
   ]
  },
  {
   "cell_type": "code",
   "execution_count": 2,
   "metadata": {},
   "outputs": [],
   "source": [
    "merged = pd.read_csv('/projectnb/vkolagrp/projects/pet_prediction/testing_data.csv')\n",
    "merged_pred = pd.read_csv('/projectnb/vkolagrp/projects/pet_prediction/model_predictions/stage1_predictions.csv')"
   ]
  },
  {
   "cell_type": "code",
   "execution_count": 3,
   "metadata": {},
   "outputs": [
    {
     "data": {
      "text/plain": [
       "True"
      ]
     },
     "execution_count": 3,
     "metadata": {},
     "output_type": "execute_result"
    }
   ],
   "source": [
    "len(merged) == len(merged_pred)"
   ]
  },
  {
   "cell_type": "code",
   "execution_count": 4,
   "metadata": {},
   "outputs": [
    {
     "data": {
      "text/plain": [
       "1833"
      ]
     },
     "execution_count": 4,
     "metadata": {},
     "output_type": "execute_result"
    }
   ],
   "source": [
    "len(merged)"
   ]
  },
  {
   "cell_type": "code",
   "execution_count": 5,
   "metadata": {},
   "outputs": [],
   "source": [
    "merged['ID'] = merged['ID'].astype(str)\n",
    "merged_pred['ID'] = merged_pred['ID'].astype(str)"
   ]
  },
  {
   "cell_type": "code",
   "execution_count": 6,
   "metadata": {},
   "outputs": [],
   "source": [
    "cog_labels = ['amy_label', 'tau_label']"
   ]
  },
  {
   "attachments": {},
   "cell_type": "markdown",
   "metadata": {},
   "source": [
    "## Generate predictions"
   ]
  },
  {
   "cell_type": "code",
   "execution_count": 7,
   "metadata": {},
   "outputs": [],
   "source": [
    "def roc_pr_save(sub_df, fname, subgroup, figname, sub_df1=None):\n",
    "    print(len(sub_df))\n",
    "    pred = merged_pred[merged_pred['ID'].isin(sub_df['ID'])].reset_index(drop=True)\n",
    "    pred = pred.drop(['ID', 'cdr_CDRGLOB', 'COHORT'], axis=1)\n",
    "    pred.to_csv(f\"./source_data/efig1/efig{figname}_{fname}.csv\", index=False)"
   ]
  },
  {
   "attachments": {},
   "cell_type": "markdown",
   "metadata": {},
   "source": [
    "### Sex"
   ]
  },
  {
   "cell_type": "code",
   "execution_count": 8,
   "metadata": {},
   "outputs": [
    {
     "data": {
      "text/plain": [
       "his_SEX\n",
       "female    928\n",
       "male      905\n",
       "Name: count, dtype: int64"
      ]
     },
     "execution_count": 8,
     "metadata": {},
     "output_type": "execute_result"
    }
   ],
   "source": [
    "merged['his_SEX'].value_counts()"
   ]
  },
  {
   "cell_type": "code",
   "execution_count": 9,
   "metadata": {},
   "outputs": [
    {
     "name": "stdout",
     "output_type": "stream",
     "text": [
      "905\n",
      "905\n",
      "928\n",
      "928\n"
     ]
    }
   ],
   "source": [
    "for fname in ['male', 'female']:\n",
    "    sub_df = merged[~merged['his_SEX'].isna()][merged['his_SEX'] == fname].reset_index(drop=True)\n",
    "    \n",
    "    print(len(sub_df))\n",
    "    \n",
    "    roc_pr_save(sub_df, fname=fname, figname=\"1b\", subgroup=\"sex\")"
   ]
  },
  {
   "attachments": {},
   "cell_type": "markdown",
   "metadata": {},
   "source": [
    "### Ethnicities"
   ]
  },
  {
   "cell_type": "code",
   "execution_count": 10,
   "metadata": {},
   "outputs": [
    {
     "name": "stdout",
     "output_type": "stream",
     "text": [
      "Amyloid white counts: 1612\n",
      "Tau white counts: 723\n"
     ]
    }
   ],
   "source": [
    "print(f\"Amyloid white counts: {dict(merged['his_NACCNIHR'].value_counts())['whi']}\")\n",
    "print(f\"Tau white counts: {dict(merged[~merged['tau_label'].isna()]['his_NACCNIHR'].value_counts())['whi']}\")"
   ]
  },
  {
   "cell_type": "code",
   "execution_count": 11,
   "metadata": {},
   "outputs": [
    {
     "name": "stdout",
     "output_type": "stream",
     "text": [
      "Amyloid other counts: 212\n",
      "Tau other counts: 114\n"
     ]
    }
   ],
   "source": [
    "print(f\"Amyloid other counts: {sum(dict(merged['his_NACCNIHR'].value_counts()).values()) - dict(merged['his_NACCNIHR'].value_counts())['whi']}\")\n",
    "print(f\"Tau other counts: {sum(dict(merged[~merged['tau_label'].isna()]['his_NACCNIHR'].value_counts()).values()) - dict(merged[~merged['tau_label'].isna()]['his_NACCNIHR'].value_counts())['whi']}\")"
   ]
  },
  {
   "cell_type": "code",
   "execution_count": 12,
   "metadata": {},
   "outputs": [
    {
     "name": "stdout",
     "output_type": "stream",
     "text": [
      "1612\n",
      "212\n"
     ]
    }
   ],
   "source": [
    "sub_df = merged[~merged['his_NACCNIHR'].isna()][merged['his_NACCNIHR'] == 'whi'].reset_index(drop=True)\n",
    "# generate_predictions_for_data_file(sub_df, f'{save_path}/race/', labels, 'whi')\n",
    "roc_pr_save(sub_df, fname='whi', figname=\"1c\", subgroup=\"race\")\n",
    "\n",
    "# sub_df = merged[merged['his_NACCNIHR'] == 'blk']\n",
    "# generate_predictions_for_data_file(sub_df, f'{save_path}/race/', labels, 'blk')\n",
    "\n",
    "sub_df = merged[~merged['his_NACCNIHR'].isna()][(merged['his_NACCNIHR'] != 'whi')].reset_index(drop=True)\n",
    "# generate_predictions_for_data_file(sub_df, f'{save_path}/race/', labels, 'oth')\n",
    "roc_pr_save(sub_df, fname='oth', figname=\"1c\", subgroup=\"race\")"
   ]
  },
  {
   "attachments": {},
   "cell_type": "markdown",
   "metadata": {},
   "source": [
    "### age"
   ]
  },
  {
   "cell_type": "code",
   "execution_count": 13,
   "metadata": {},
   "outputs": [
    {
     "data": {
      "text/plain": [
       "73.6208076659822"
      ]
     },
     "execution_count": 13,
     "metadata": {},
     "output_type": "execute_result"
    }
   ],
   "source": [
    "Q1 = merged['his_NACCAGE'].quantile(0.25)\n",
    "Q2 = merged['his_NACCAGE'].quantile(0.5)  # This is also the median\n",
    "Q3 = merged['his_NACCAGE'].quantile(0.75)\n",
    "Q2"
   ]
  },
  {
   "cell_type": "code",
   "execution_count": 14,
   "metadata": {},
   "outputs": [
    {
     "name": "stdout",
     "output_type": "stream",
     "text": [
      "Median: 73.6208076659822\n"
     ]
    }
   ],
   "source": [
    "print(f\"Median: {np.median(merged['his_NACCAGE'])}\")"
   ]
  },
  {
   "cell_type": "code",
   "execution_count": 15,
   "metadata": {},
   "outputs": [
    {
     "name": "stdout",
     "output_type": "stream",
     "text": [
      "916\n",
      "917\n"
     ]
    }
   ],
   "source": [
    "print(len(merged[merged['his_NACCAGE'] < Q2]))\n",
    "print(len(merged[merged['his_NACCAGE'] >= Q2]))"
   ]
  },
  {
   "cell_type": "code",
   "execution_count": 16,
   "metadata": {},
   "outputs": [
    {
     "name": "stdout",
     "output_type": "stream",
     "text": [
      "415\n",
      "428\n"
     ]
    }
   ],
   "source": [
    "print(len(merged[~merged['tau_label'].isna()][merged['his_NACCAGE'] < Q2]))\n",
    "print(len(merged[~merged['tau_label'].isna()][merged['his_NACCAGE'] >= Q2]))"
   ]
  },
  {
   "cell_type": "code",
   "execution_count": 17,
   "metadata": {},
   "outputs": [
    {
     "name": "stdout",
     "output_type": "stream",
     "text": [
      "age_below_median\n",
      "916\n",
      "age_above_median\n",
      "917\n"
     ]
    }
   ],
   "source": [
    "fname = \"age_below_median\"\n",
    "sub_df = merged[~merged['his_NACCAGE'].isna()][merged['his_NACCAGE'] < Q2].reset_index(drop=True)\n",
    "# sub_df1 = nacc[nacc['his_NACCAGE'] <= nacc_Q2]\n",
    "print(fname)\n",
    "roc_pr_save(sub_df, fname=fname, figname=\"1a\", subgroup=\"age\")\n",
    "\n",
    "fname = \"age_above_median\"\n",
    "sub_df = merged[~merged['his_NACCAGE'].isna()][merged['his_NACCAGE'] >= Q2].reset_index(drop=True)\n",
    "print(fname)\n",
    "roc_pr_save(sub_df, fname=fname, figname=\"1a\", subgroup=\"age\")"
   ]
  },
  {
   "attachments": {},
   "cell_type": "markdown",
   "metadata": {},
   "source": [
    "### education"
   ]
  },
  {
   "cell_type": "code",
   "execution_count": 18,
   "metadata": {},
   "outputs": [
    {
     "data": {
      "text/plain": [
       "16.0"
      ]
     },
     "execution_count": 18,
     "metadata": {},
     "output_type": "execute_result"
    }
   ],
   "source": [
    "Q1 = merged['his_EDUC'].quantile(0.25)\n",
    "Q2 = merged['his_EDUC'].quantile(0.5)  # This is also the median\n",
    "Q3 = merged['his_EDUC'].quantile(0.75)\n",
    "Q2"
   ]
  },
  {
   "cell_type": "code",
   "execution_count": 19,
   "metadata": {},
   "outputs": [
    {
     "data": {
      "text/plain": [
       "16.0"
      ]
     },
     "execution_count": 19,
     "metadata": {},
     "output_type": "execute_result"
    }
   ],
   "source": [
    "np.median( merged[~merged['his_EDUC'].isna()]['his_EDUC'])"
   ]
  },
  {
   "cell_type": "code",
   "execution_count": 20,
   "metadata": {},
   "outputs": [
    {
     "name": "stdout",
     "output_type": "stream",
     "text": [
      "570\n",
      "1261\n"
     ]
    }
   ],
   "source": [
    "print(len(merged[merged['his_EDUC'] < Q2]))\n",
    "print(len(merged[merged['his_EDUC'] >= Q2]))"
   ]
  },
  {
   "cell_type": "code",
   "execution_count": 21,
   "metadata": {},
   "outputs": [
    {
     "name": "stdout",
     "output_type": "stream",
     "text": [
      "252\n",
      "590\n"
     ]
    }
   ],
   "source": [
    "print(len(merged[~merged['tau_label'].isna()][merged['his_EDUC'] < Q2]))\n",
    "print(len(merged[~merged['tau_label'].isna()][merged['his_EDUC'] >= Q2]))"
   ]
  },
  {
   "cell_type": "code",
   "execution_count": 22,
   "metadata": {},
   "outputs": [
    {
     "name": "stdout",
     "output_type": "stream",
     "text": [
      "educ_below_median\n",
      "570\n",
      "educ_above_median\n",
      "1261\n"
     ]
    }
   ],
   "source": [
    "fname = \"educ_below_median\"\n",
    "sub_df = merged[~merged['his_EDUC'].isna()][merged['his_EDUC'] < Q2].reset_index(drop=True)\n",
    "# sub_df1 = nacc[nacc['his_NACCAGE'] <= nacc_Q2]\n",
    "print(fname)\n",
    "roc_pr_save(sub_df, fname=fname, figname=\"1d\", subgroup=\"educ\")\n",
    "\n",
    "fname = \"educ_above_median\"\n",
    "sub_df = merged[~merged['his_EDUC'].isna()][merged['his_EDUC'] >= Q2].reset_index(drop=True)\n",
    "# sub_df1 = nacc[nacc['his_NACCAGE'] > nacc_Q2]\n",
    "print(fname)\n",
    "roc_pr_save(sub_df, fname=fname, figname=\"1d\", subgroup=\"educ\")"
   ]
  },
  {
   "cell_type": "code",
   "execution_count": null,
   "metadata": {},
   "outputs": [],
   "source": []
  },
  {
   "attachments": {},
   "cell_type": "markdown",
   "metadata": {},
   "source": [
    "## Create data for the figure"
   ]
  },
  {
   "cell_type": "code",
   "execution_count": 23,
   "metadata": {},
   "outputs": [],
   "source": [
    "cog_labels = ['amy_label', 'tau_label']"
   ]
  },
  {
   "cell_type": "code",
   "execution_count": 24,
   "metadata": {},
   "outputs": [],
   "source": [
    "def gen_roc_pr(y_true, y_pred, cog_labels, subgroup, fname):\n",
    "    for i, fea in enumerate(cog_labels):\n",
    "        y_true_ = np.array(y_true[:, i])\n",
    "        y_pred_ = np.array(y_pred[:, i])\n",
    "        mask = np.array([1 if not np.isnan(k) else 0 for k in y_true_])\n",
    "        masked_y_true = y_true_[np.where(mask == 1)]\n",
    "        masked_y_pred = y_pred_[np.where(mask == 1)]\n",
    "        # fpr[fea], tpr[fea], thresholds[fea] = roc_curve(y_true=masked_y_true, y_score=masked_y_pred, pos_label=1, drop_intermediate=False)\n",
    "        auc_score = roc_auc_score(masked_y_true, masked_y_pred)\n",
    "        aupr_score = average_precision_score(masked_y_true, masked_y_pred)\n",
    "        \n",
    "        if \"amy\" in fea:\n",
    "            perf_dict_amy[subgroup][fname]['AUROC'] = round(auc_score, 2)\n",
    "            perf_dict_amy[subgroup][fname]['AUPR'] = round(aupr_score, 2)\n",
    "        else:\n",
    "            perf_dict_tau[subgroup][fname]['AUROC'] = round(auc_score, 2)\n",
    "            perf_dict_tau[subgroup][fname]['AUPR'] = round(aupr_score, 2)\n",
    "            "
   ]
  },
  {
   "cell_type": "code",
   "execution_count": 25,
   "metadata": {},
   "outputs": [],
   "source": [
    "def roc_pr(sub_df, fname, subgroup):\n",
    "    y_true_ =  np.array(sub_df[[f'{lab}_label' for lab in cog_labels]])\n",
    "    scores_proba_ = np.array(sub_df[[f'{lab}_prob' for lab in cog_labels]])\n",
    "    \n",
    "    gen_roc_pr(y_true_, scores_proba_, cog_labels, subgroup, fname)\n",
    "    "
   ]
  },
  {
   "cell_type": "code",
   "execution_count": 26,
   "metadata": {},
   "outputs": [],
   "source": [
    "perf_dict_amy = {\"sex\": {\"male\": {}, \"female\": {}}, \"age\": {\"age_above_median\": {}, \"age_below_median\": {}}, \"race\": {\"whi\": {}, \"oth\": {}}, \"educ\": {\"educ_above_median\": {}, \"educ_below_median\": {}}}\n",
    "perf_dict_tau = {\"sex\": {\"male\": {}, \"female\": {}}, \"age\": {\"age_above_median\": {}, \"age_below_median\": {}}, \"race\": {\"whi\": {}, \"oth\": {}}, \"educ\": {\"educ_above_median\": {}, \"educ_below_median\": {}}}"
   ]
  },
  {
   "cell_type": "code",
   "execution_count": 27,
   "metadata": {},
   "outputs": [],
   "source": [
    "basedir = \"./source_data/efig1\"\n",
    "efig1a_female = pd.read_csv(f\"{basedir}/efig1b_female.csv\")\n",
    "efig1a_male = pd.read_csv(f\"{basedir}/efig1b_male.csv\")\n",
    "efig1a_whi = pd.read_csv(f\"{basedir}/efig1c_whi.csv\")\n",
    "efig1a_oth = pd.read_csv(f\"{basedir}/efig1c_oth.csv\")\n",
    "efig1a_age_above_median = pd.read_csv(f\"{basedir}/efig1a_age_above_median.csv\")\n",
    "efig1a_age_below_median = pd.read_csv(f\"{basedir}/efig1a_age_below_median.csv\")\n",
    "efig1d_educ_above_median = pd.read_csv(f\"{basedir}/efig1d_educ_above_median.csv\")\n",
    "efig1d_educ_below_median = pd.read_csv(f\"{basedir}/efig1d_educ_below_median.csv\")"
   ]
  },
  {
   "cell_type": "code",
   "execution_count": 28,
   "metadata": {},
   "outputs": [],
   "source": [
    "roc_pr(efig1a_female, \"female\", \"sex\")\n",
    "roc_pr(efig1a_male, \"male\", \"sex\")\n",
    "roc_pr(efig1a_whi, \"whi\", \"race\")\n",
    "roc_pr(efig1a_oth, \"oth\", \"race\")\n",
    "roc_pr(efig1a_age_above_median, \"age_above_median\", \"age\")\n",
    "roc_pr(efig1a_age_below_median, \"age_below_median\", \"age\")\n",
    "roc_pr(efig1d_educ_above_median, \"educ_above_median\", \"educ\")\n",
    "roc_pr(efig1d_educ_below_median, \"educ_below_median\", \"educ\")"
   ]
  },
  {
   "cell_type": "code",
   "execution_count": 29,
   "metadata": {},
   "outputs": [
    {
     "data": {
      "text/plain": [
       "{'sex': {'male': {'AUROC': 0.79, 'AUPR': 0.76},\n",
       "  'female': {'AUROC': 0.79, 'AUPR': 0.8}},\n",
       " 'age': {'age_above_median': {'AUROC': 0.76, 'AUPR': 0.78},\n",
       "  'age_below_median': {'AUROC': 0.8, 'AUPR': 0.78}},\n",
       " 'race': {'whi': {'AUROC': 0.79, 'AUPR': 0.79},\n",
       "  'oth': {'AUROC': 0.79, 'AUPR': 0.74}},\n",
       " 'educ': {'educ_above_median': {'AUROC': 0.78, 'AUPR': 0.75},\n",
       "  'educ_below_median': {'AUROC': 0.8, 'AUPR': 0.84}}}"
      ]
     },
     "execution_count": 29,
     "metadata": {},
     "output_type": "execute_result"
    }
   ],
   "source": [
    "perf_dict_amy"
   ]
  },
  {
   "cell_type": "code",
   "execution_count": 30,
   "metadata": {},
   "outputs": [
    {
     "data": {
      "text/plain": [
       "{'sex': {'male': {'AUROC': 0.79, 'AUPR': 0.48},\n",
       "  'female': {'AUROC': 0.87, 'AUPR': 0.72}},\n",
       " 'age': {'age_above_median': {'AUROC': 0.78, 'AUPR': 0.56},\n",
       "  'age_below_median': {'AUROC': 0.88, 'AUPR': 0.67}},\n",
       " 'race': {'whi': {'AUROC': 0.83, 'AUPR': 0.61},\n",
       "  'oth': {'AUROC': 0.91, 'AUPR': 0.58}},\n",
       " 'educ': {'educ_above_median': {'AUROC': 0.8, 'AUPR': 0.49},\n",
       "  'educ_below_median': {'AUROC': 0.91, 'AUPR': 0.79}}}"
      ]
     },
     "execution_count": 30,
     "metadata": {},
     "output_type": "execute_result"
    }
   ],
   "source": [
    "perf_dict_tau"
   ]
  },
  {
   "cell_type": "code",
   "execution_count": 31,
   "metadata": {},
   "outputs": [],
   "source": [
    "rows = []\n",
    "for subgroup, categories in perf_dict_amy.items():\n",
    "    for category, metrics in categories.items():\n",
    "        rows.append({'Subgroup': subgroup, 'Category': category, 'AUROC': metrics['AUROC'], 'AUPR': metrics['AUPR'], \"Label\" : \"amy_label\"})\n",
    "\n",
    "df1 = pd.DataFrame(rows)\n",
    "\n",
    "rows = []\n",
    "for subgroup, categories in perf_dict_tau.items():\n",
    "    for category, metrics in categories.items():\n",
    "        rows.append({'Subgroup': subgroup, 'Category': category, 'AUROC': metrics['AUROC'], 'AUPR': metrics['AUPR'], \"Label\" : \"tau_label\"})\n",
    "\n",
    "df2 = pd.DataFrame(rows)\n",
    "\n",
    "data = pd.concat([df1, df2], axis=0).reset_index(drop=True)"
   ]
  },
  {
   "cell_type": "code",
   "execution_count": 32,
   "metadata": {},
   "outputs": [],
   "source": [
    "data.to_csv(\"./source_data/efig1.csv\", index=False)"
   ]
  },
  {
   "cell_type": "code",
   "execution_count": 33,
   "metadata": {},
   "outputs": [
    {
     "data": {
      "text/html": [
       "<div>\n",
       "<style scoped>\n",
       "    .dataframe tbody tr th:only-of-type {\n",
       "        vertical-align: middle;\n",
       "    }\n",
       "\n",
       "    .dataframe tbody tr th {\n",
       "        vertical-align: top;\n",
       "    }\n",
       "\n",
       "    .dataframe thead th {\n",
       "        text-align: right;\n",
       "    }\n",
       "</style>\n",
       "<table border=\"1\" class=\"dataframe\">\n",
       "  <thead>\n",
       "    <tr style=\"text-align: right;\">\n",
       "      <th></th>\n",
       "      <th>Subgroup</th>\n",
       "      <th>Category</th>\n",
       "      <th>AUROC</th>\n",
       "      <th>AUPR</th>\n",
       "      <th>Label</th>\n",
       "    </tr>\n",
       "  </thead>\n",
       "  <tbody>\n",
       "    <tr>\n",
       "      <th>0</th>\n",
       "      <td>sex</td>\n",
       "      <td>male</td>\n",
       "      <td>0.79</td>\n",
       "      <td>0.76</td>\n",
       "      <td>amy_label</td>\n",
       "    </tr>\n",
       "    <tr>\n",
       "      <th>1</th>\n",
       "      <td>sex</td>\n",
       "      <td>female</td>\n",
       "      <td>0.79</td>\n",
       "      <td>0.80</td>\n",
       "      <td>amy_label</td>\n",
       "    </tr>\n",
       "    <tr>\n",
       "      <th>2</th>\n",
       "      <td>age</td>\n",
       "      <td>age_above_median</td>\n",
       "      <td>0.76</td>\n",
       "      <td>0.78</td>\n",
       "      <td>amy_label</td>\n",
       "    </tr>\n",
       "    <tr>\n",
       "      <th>3</th>\n",
       "      <td>age</td>\n",
       "      <td>age_below_median</td>\n",
       "      <td>0.80</td>\n",
       "      <td>0.78</td>\n",
       "      <td>amy_label</td>\n",
       "    </tr>\n",
       "    <tr>\n",
       "      <th>4</th>\n",
       "      <td>race</td>\n",
       "      <td>whi</td>\n",
       "      <td>0.79</td>\n",
       "      <td>0.79</td>\n",
       "      <td>amy_label</td>\n",
       "    </tr>\n",
       "    <tr>\n",
       "      <th>5</th>\n",
       "      <td>race</td>\n",
       "      <td>oth</td>\n",
       "      <td>0.79</td>\n",
       "      <td>0.74</td>\n",
       "      <td>amy_label</td>\n",
       "    </tr>\n",
       "    <tr>\n",
       "      <th>6</th>\n",
       "      <td>educ</td>\n",
       "      <td>educ_above_median</td>\n",
       "      <td>0.78</td>\n",
       "      <td>0.75</td>\n",
       "      <td>amy_label</td>\n",
       "    </tr>\n",
       "    <tr>\n",
       "      <th>7</th>\n",
       "      <td>educ</td>\n",
       "      <td>educ_below_median</td>\n",
       "      <td>0.80</td>\n",
       "      <td>0.84</td>\n",
       "      <td>amy_label</td>\n",
       "    </tr>\n",
       "    <tr>\n",
       "      <th>8</th>\n",
       "      <td>sex</td>\n",
       "      <td>male</td>\n",
       "      <td>0.79</td>\n",
       "      <td>0.48</td>\n",
       "      <td>tau_label</td>\n",
       "    </tr>\n",
       "    <tr>\n",
       "      <th>9</th>\n",
       "      <td>sex</td>\n",
       "      <td>female</td>\n",
       "      <td>0.87</td>\n",
       "      <td>0.72</td>\n",
       "      <td>tau_label</td>\n",
       "    </tr>\n",
       "    <tr>\n",
       "      <th>10</th>\n",
       "      <td>age</td>\n",
       "      <td>age_above_median</td>\n",
       "      <td>0.78</td>\n",
       "      <td>0.56</td>\n",
       "      <td>tau_label</td>\n",
       "    </tr>\n",
       "    <tr>\n",
       "      <th>11</th>\n",
       "      <td>age</td>\n",
       "      <td>age_below_median</td>\n",
       "      <td>0.88</td>\n",
       "      <td>0.67</td>\n",
       "      <td>tau_label</td>\n",
       "    </tr>\n",
       "    <tr>\n",
       "      <th>12</th>\n",
       "      <td>race</td>\n",
       "      <td>whi</td>\n",
       "      <td>0.83</td>\n",
       "      <td>0.61</td>\n",
       "      <td>tau_label</td>\n",
       "    </tr>\n",
       "    <tr>\n",
       "      <th>13</th>\n",
       "      <td>race</td>\n",
       "      <td>oth</td>\n",
       "      <td>0.91</td>\n",
       "      <td>0.58</td>\n",
       "      <td>tau_label</td>\n",
       "    </tr>\n",
       "    <tr>\n",
       "      <th>14</th>\n",
       "      <td>educ</td>\n",
       "      <td>educ_above_median</td>\n",
       "      <td>0.80</td>\n",
       "      <td>0.49</td>\n",
       "      <td>tau_label</td>\n",
       "    </tr>\n",
       "    <tr>\n",
       "      <th>15</th>\n",
       "      <td>educ</td>\n",
       "      <td>educ_below_median</td>\n",
       "      <td>0.91</td>\n",
       "      <td>0.79</td>\n",
       "      <td>tau_label</td>\n",
       "    </tr>\n",
       "  </tbody>\n",
       "</table>\n",
       "</div>"
      ],
      "text/plain": [
       "   Subgroup           Category  AUROC  AUPR      Label\n",
       "0       sex               male   0.79  0.76  amy_label\n",
       "1       sex             female   0.79  0.80  amy_label\n",
       "2       age   age_above_median   0.76  0.78  amy_label\n",
       "3       age   age_below_median   0.80  0.78  amy_label\n",
       "4      race                whi   0.79  0.79  amy_label\n",
       "5      race                oth   0.79  0.74  amy_label\n",
       "6      educ  educ_above_median   0.78  0.75  amy_label\n",
       "7      educ  educ_below_median   0.80  0.84  amy_label\n",
       "8       sex               male   0.79  0.48  tau_label\n",
       "9       sex             female   0.87  0.72  tau_label\n",
       "10      age   age_above_median   0.78  0.56  tau_label\n",
       "11      age   age_below_median   0.88  0.67  tau_label\n",
       "12     race                whi   0.83  0.61  tau_label\n",
       "13     race                oth   0.91  0.58  tau_label\n",
       "14     educ  educ_above_median   0.80  0.49  tau_label\n",
       "15     educ  educ_below_median   0.91  0.79  tau_label"
      ]
     },
     "execution_count": 33,
     "metadata": {},
     "output_type": "execute_result"
    }
   ],
   "source": [
    "data"
   ]
  },
  {
   "cell_type": "code",
   "execution_count": null,
   "metadata": {},
   "outputs": [],
   "source": []
  }
 ],
 "metadata": {
  "kernelspec": {
   "display_name": "adrd",
   "language": "python",
   "name": "python3"
  },
  "language_info": {
   "codemirror_mode": {
    "name": "ipython",
    "version": 3
   },
   "file_extension": ".py",
   "mimetype": "text/x-python",
   "name": "python",
   "nbconvert_exporter": "python",
   "pygments_lexer": "ipython3",
   "version": "3.11.9"
  }
 },
 "nbformat": 4,
 "nbformat_minor": 2
}
